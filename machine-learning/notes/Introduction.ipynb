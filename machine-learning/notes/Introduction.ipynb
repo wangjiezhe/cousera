{
 "cells": [
  {
   "cell_type": "markdown",
   "metadata": {},
   "source": [
    "# Introduction"
   ]
  },
  {
   "cell_type": "markdown",
   "metadata": {},
   "source": [
    "## What is Machine Learning (机器学习)"
   ]
  },
  {
   "cell_type": "markdown",
   "metadata": {
    "collapsed": true
   },
   "source": [
    "Author Samuel: \"**the field of study that gives computers the ability to learn without explicitly programmed.**\"\n",
    "which is an older, informal definition.\n",
    "\n",
    "Tom Mitchell: \"**A computer program is said to learn from experience E with respect to some class of tasks T and performance measure P, if its performance at tasks in T, as measured by P, improves with experience E.**\"\n",
    "which is a more modern definition.\n",
    "\n",
    "**Example:** playing checkers.\n",
    "\n",
    "* E = the experience of playing many games of checkers\n",
    "* T = the task of playing checkers\n",
    "* P = the probability that the program will win the next game"
   ]
  },
  {
   "cell_type": "markdown",
   "metadata": {},
   "source": [
    "## Supervised Learning (监督式学习)"
   ]
  },
  {
   "cell_type": "markdown",
   "metadata": {},
   "source": [
    "In supervised learning, we are given a data set and already know what our correct output should look like, having the idea that there is a relationship between the input and the output.\n",
    "\n",
    "Supervised learning problems are categorized into **\"regression\"** (回归) and **\"classification\"** (分类) problems. In a **regression** problem, we are trying to predict results within a **continous** (连续) output, meaning that we are trying to map input variables to some continous function. In a **classification** problem, we are instead trying to predict results in a **discrete** (离散) output. In other words, we are trying to map input variables into **discrete** categories.\n",
    "\n",
    "**Example:**\n",
    "\n",
    "Given data about the size of houses on the real estate market, try to predict their price. Price as a function of size is a *continous* output, so this is a regression problem.\n",
    "\n",
    "We could turn this example into a classification problem by instead making our output about whether hte house \"sells for more or less than the asking price.\" Here we are classifying the houses based on price into two *discrete* categories."
   ]
  },
  {
   "cell_type": "markdown",
   "metadata": {},
   "source": [
    "## Unsupervised Learning (非监督式学习)"
   ]
  },
  {
   "cell_type": "markdown",
   "metadata": {},
   "source": [
    "Unsupervised learning, on the other hand, allows us to approach problems with little or no idea what our results should look like. We can derive structure from data where we don't necessarily know the effect of the variables.\n",
    "\n",
    "We can derive this structure by **clustering** the data based ont relationships among the variables in the data.\n",
    "\n",
    "With unsupervised learning there is no feedback based on the prediction results, i.e., thre is no teacher to correct you. It's not just about clustering. For example, associative memory is unsupervised learning.\n",
    "\n",
    "**Example:**\n",
    "\n",
    "*Clustering:* (聚类) Take a collection of 1000 essays written on the US Economy, and find a way to automatically group these essays into a small number that are somehow similar or related by different variables, such as word frequency, sentence length, page count, and so on.\n",
    "\n",
    "*Associative:* (关联) Suppose a doctor over years of experience forms associations in his mind between patient characteristics and illnesses that they have. If a new patient shows up then bsedon this patient's characteristics such as symptoms, family medical history, physical attributes, mental outlook, etc the doctor associates  possible illness or illnesses based on what the doctor hs seen before with simlar patients. This is not hte same as rule based reasoning as in expert systems. In ths case we would like to estimate a mapping function from patient characteristics into illnesses."
   ]
  }
 ],
 "metadata": {
  "kernelspec": {
   "display_name": "Octave",
   "language": "octave",
   "name": "octave_kernel"
  },
  "language_info": {
   "file_extension": ".m",
   "help_links": [
    {
     "text": "MetaKernel Magics",
     "url": "https://github.com/calysto/metakernel/blob/master/metakernel/magics/README.md"
    }
   ],
   "mimetype": "text/x-octave",
   "name": "octave_kernel"
  }
 },
 "nbformat": 4,
 "nbformat_minor": 0
}
