{
 "cells": [
  {
   "cell_type": "markdown",
   "metadata": {},
   "source": [
    "# Linear Regression with Multiple Variables (多变量线性回归)"
   ]
  },
  {
   "cell_type": "markdown",
   "metadata": {},
   "source": [
    "## Multiple Features"
   ]
  },
  {
   "cell_type": "markdown",
   "metadata": {},
   "source": [
    "Linear regression with multiple variables is also know as *\"multivariate linear regression.\"*\n",
    "\n",
    "We now introduce notation for equations where we can have any number of input variables.\n",
    "\n",
    "$\n",
    "\\begin{align*}\n",
    "x_j^{(i)} &= \\text{value of feature } j \\text{ in the } i^{th} \\text{ traing example } \\\\\n",
    "x^{(i)} &= \\text{the column vector of all the feature inputs of the } i^{th} \\text{ training example} \\\\\n",
    "m &= \\text{the number of training examples} \\\\\n",
    "n &= \\left| x^{(i)} \\right| \\; \\text{(the number of features)}\n",
    "\\end{align*}\n",
    "$\n",
    "\n",
    "Now define the multivariables form of the hypothesis function as follows, accomodating these features:\n",
    "\n",
    "$\n",
    "h_\\theta (x) = \\theta_0 + \\theta_1 x_1 + \\theta_2 x_2 + \\theta_3 x_3 + \\cdots + \\theta_n x_n\n",
    "$\n",
    "\n",
    "Using the definition of matrix multiplication, our multivariate hypothesis function can be concisely represented as:\n",
    "\n",
    "$\n",
    "h_\\theta(x) =\n",
    "\\begin{bmatrix}\n",
    "\\theta_0 & \\theta_1 & \\cdots & \\theta_n\n",
    "\\end{bmatrix}\n",
    "\\begin{bmatrix}\n",
    "x_0 \\\\ x_1 \\\\ \\vdots \\\\ x_n\n",
    "\\end{bmatrix}\n",
    "= \\theta^T x \\qquad \\text{where } x_0 = 1\n",
    "$\n",
    "\n",
    "This is a vectorization of out hypothesis for one training example.\n",
    "\n",
    "Now we can collect all $m$ training examples each with $n$ features and record them in an $n+1$ by $m$ matrix. In this matrix we let the value of the subscript (feature) also represent the row number (except the initial row is the \"zeroth\" row), and the value of the superscript (the training example) also represent the column number, as shown here:\n",
    "\n",
    "$\n",
    "X = \n",
    "\\begin{bmatrix}\n",
    "x_0^{(1)} & x_0^{(2)} & \\cdots & x_0^{(m)} \\\\\n",
    "x_1^{(1)} & x_1^{(2)} & \\cdots & x_1^{(m)} \\\\\n",
    "\\vdots \\\\\n",
    "x_n^{(1)} & x_n^{(2)} & \\cdots & x_n^{(m)}\n",
    "\\end{bmatrix}\n",
    "=\n",
    "\\begin{bmatrix}\n",
    "1 & 1 & \\cdots & 1 \\\\\n",
    "x_1^{(1)} & x_1^{(2)} & \\cdots & x_1^{(m)} \\\\\n",
    "\\vdots \\\\\n",
    "x_n^{(1)} & x_n^{(2)} & \\cdots & x_n^{(m)}\n",
    "\\end{bmatrix}\n",
    "$\n",
    "\n",
    "Notice above that the $ith$ column is the $ith$ training example (like the vector above).\n",
    "\n",
    "Now we can define $h_\\theta(X)$ as a row vector that gives the value of $h_\\theta(x)$ at each of the$m$ training examples, and using the definition of matrix multiplication, we represent this as below:\n",
    "\n",
    "$\n",
    "h_\\theta(X) =\n",
    "\\begin{bmatrix}\n",
    "\\theta_0 & \\theta_1 & \\cdots & \\theta_n\n",
    "\\end{bmatrix}\n",
    "\\begin{bmatrix}\n",
    "x_0^{(1)} & x_0^{(2)} & \\cdots & x_0^{(m)} \\\\\n",
    "x_1^{(1)} & x_1^{(2)} & \\cdots & x_1^{(m)} \\\\\n",
    "\\vdots \\\\\n",
    "x_n^{(1)} & x_n^{(2)} & \\cdots & x_n^{(m)}\n",
    "\\end{bmatrix}\n",
    "= \\theta^T X\n",
    "$\n",
    "\n",
    "However, this version of hypothesis function assumes that matrix $X$ stores trainging examples column-wise and $\\theta$ is a column vector. **But for the rest of this page, and other pages, $X$ will represent a matrix of training examples $x^{(i)}$ stored row-size,** in which case, $h_\\theta(X)$ is would be a column vector, not a row vector, and you would calculate the hypothesis function with:\n",
    "\n",
    "$\n",
    "h_\\theta(X) = X \\theta\n",
    "$\n",
    "\n",
    "**Example:**\n",
    "\n",
    "<img src=\"./images/2/Multiple_features.png\" align=left width=49% />\n",
    "<img src=\"./images/2/Hypothesis.png\" align=right width=49% />"
   ]
  },
  {
   "cell_type": "markdown",
   "metadata": {},
   "source": [
    "## Cost function"
   ]
  },
  {
   "cell_type": "markdown",
   "metadata": {},
   "source": [
    "For the parameter vector $\\theta$ (of type $\\mathbb{R}^{n+1}$ or in $\\mathbb{R}^{(n+1)\\ times1 }$), the cost function is:\n",
    "\n",
    "$\n",
    "J(\\theta) = \\dfrac{1}{2m} \\displaystyle \\sum_{i=1}^m \\left(h_\\theta(x^{(i)} - y^{(i)} \\right)^2\n",
    "$\n",
    "\n",
    "The vectorized version is:\n",
    "\n",
    "$\n",
    "J(\\theta) = \\dfrac{1}{2m} (X \\theta - \\vec{y})^T (X \\theta - \\vec{y})\n",
    "$"
   ]
  },
  {
   "cell_type": "markdown",
   "metadata": {},
   "source": [
    "With Octave, you can use `sumsq` or `z'*z` to compute the cost function."
   ]
  },
  {
   "cell_type": "code",
   "execution_count": 1,
   "metadata": {
    "collapsed": false,
    "scrolled": true
   },
   "outputs": [
    {
     "data": {
      "text/plain": [
       "X =\r\n",
       "\r\n",
       "      1   2104      5      1     45\r\n",
       "      1   1416      3      2     40\r\n",
       "      1   1534      3      2     30\r\n",
       "      1    852      2      1     36\r\n",
       "\r\n",
       "y =\r\n",
       "\r\n",
       "   460\r\n",
       "   232\r\n",
       "   315\r\n",
       "   178\r\n",
       "\r\n",
       "theta =\r\n",
       "\r\n",
       "   0\r\n",
       "   0\r\n",
       "   0\r\n",
       "   0\r\n",
       "   0\r\n",
       "\r\n",
       "m =  4\r\n"
      ]
     },
     "execution_count": 1,
     "metadata": {},
     "output_type": "execute_result"
    }
   ],
   "source": [
    "X = [2104 5 1 45;\n",
    "     1416 3 2 40;\n",
    "     1534 3 2 30\n",
    "     852 2 1 36];\n",
    "X = [ones(4, 1) X]\n",
    "y = [460;\n",
    "     232;\n",
    "     315;\n",
    "     178];\n",
    "theta = zeros(size(X, 2),1);\n",
    "m = length(y);\n",
    "X, y, theta, m"
   ]
  },
  {
   "cell_type": "code",
   "execution_count": 2,
   "metadata": {
    "collapsed": false
   },
   "outputs": [
    {
     "data": {
      "text/plain": [
       "J =    4.9542e+04\r\n"
      ]
     },
     "execution_count": 2,
     "metadata": {},
     "output_type": "execute_result"
    }
   ],
   "source": [
    "J = sumsq(X * theta - y) / (2 * m)"
   ]
  },
  {
   "cell_type": "code",
   "execution_count": 3,
   "metadata": {
    "collapsed": false
   },
   "outputs": [
    {
     "data": {
      "text/plain": [
       "J =    4.9542e+04\r\n"
      ]
     },
     "execution_count": 3,
     "metadata": {},
     "output_type": "execute_result"
    }
   ],
   "source": [
    "J = (X * theta - y)' * (X * theta - y) / (2 * m)"
   ]
  },
  {
   "cell_type": "markdown",
   "metadata": {},
   "source": [
    "## Gradient Descent for Multiple Variables"
   ]
  },
  {
   "cell_type": "markdown",
   "metadata": {},
   "source": [
    "The gradient descent equation itself is generally the same form; we just have to repeat it for our 'n' features:\n",
    "\n",
    "$\n",
    "\\begin{align*}\n",
    "\\text{repeat until convergence: } \\; \\lbrace & \\\\\n",
    "\\theta_0 := & \\theta_0 - \\alpha \\frac{1}{m} \\sum\\limits_{i=1}^m (h_\\theta(x^{(i)}) - y^{(i)}) \\cdot x_0^{(i)} \\\\\n",
    "\\theta_1 := & \\theta_1 - \\alpha \\frac{1}{m} \\sum\\limits_{i=1}^m (h_\\theta(x^{(i)}) - y^{(i)}) \\cdot x_1^{(i)} \\\\\n",
    "\\theta_2 := & \\theta_2 - \\alpha \\frac{1}{m} \\sum\\limits_{i=1}^m (h_\\theta(x^{(i)}) - y^{(i)}) \\cdot x_2^{(i)} \\\\\n",
    "\\cdots & \\\\\n",
    "\\rbrace\n",
    "\\end{align*}\n",
    "$\n",
    "\n",
    "In other words:\n",
    "\n",
    "$\n",
    "\\begin{align*}\n",
    "\\text{repeat until convergence: } \\; \\lbrace & \\\\\n",
    "\\theta_j := & \\theta_j - \\alpha \\frac{1}{m} \\sum\\limits_{i=1}^m (h_\\theta(x^{(i)}) - y^{(i)}) \\cdot x_j^{(i)} \\qquad \\text{for j := 0..n} \\\\\n",
    "\\rbrace\n",
    "\\end{align*}\n",
    "$"
   ]
  },
  {
   "cell_type": "markdown",
   "metadata": {},
   "source": [
    "## Matrix Notation"
   ]
  },
  {
   "cell_type": "markdown",
   "metadata": {},
   "source": [
    "The Gradient Descent rule can be expressed as:\n",
    "\n",
    "$\n",
    "\\theta := \\theta - \\alpha \\nabla J(\\theta)\n",
    "$\n",
    "\n",
    "Where $\\nabla J(\\theta)$ is a column vector of the form:\n",
    "\n",
    "$\n",
    "\\large\n",
    "\\nabla J(\\theta) =\n",
    "\\begin{bmatrix}\n",
    "\\frac{\\partial J(\\theta)}{\\partial \\theta_0} \\\\\n",
    "\\frac{\\partial J(\\theta)}{\\partial \\theta_1} \\\\\n",
    "\\vdots \\\\\n",
    "\\frac{\\partial J(\\theta)}{\\partial \\theta_n}\n",
    "\\end{bmatrix}\n",
    "$\n",
    "\n",
    "The j-th componet of the gradient is the summation of the product of two terms:\n",
    "\n",
    "$\n",
    "\\begin{align*}\n",
    "\\frac{\\partial J(\\theta)}{\\partial \\theta_j} \\;\n",
    "& = \\frac{1}{m} \\sum\\limits_{i=1}^m \\left( h_\\theta(x^{(i)}) - y^{(i)} \\right) \\cdot x_j^{(i)} \\\\\n",
    "&= \\frac{1}{m} \\sum\\limits_{i=1}^m x_j^{(i)} \\cdot \\left( h_\\theta(x^{(i)}) - y^{(i)} \\right )\n",
    "\\end{align*}\n",
    "$\n",
    "\n",
    "Sometimes, the summation of the product  of two terms can be expressed as the product as the product of two vectors.\n",
    "\n",
    "Here, the term $x_j^{(i)}$ represents $m$ elements of the $j$-th cloumn $\\vec{x_j}$ ($j$-th feature $\\vec{x_j}$) of the training set $X$.\n",
    "\n",
    "The other term $\\left( h_\\theta(x_j^{(i)}) - y^{(i)} \\right)$ is the vector of the deviations between the predictions $h_\\theta(x_j^{(i)}$ and the true values $y^{(i)}$.\n",
    "\n",
    "Re-writing $\\frac{\\partial J(\\theta)}{\\partial \\theta_j}$, we have:\n",
    "\n",
    "$\n",
    "\\begin{align*}\n",
    "\\frac{\\partial J(\\theta)}{\\partial \\theta_j} \\;\n",
    "&= \\frac{1}{m} \\vec{x_j}^T (X \\theta - \\vec{y}) \\\\\n",
    "\\nabla J(\\theta) \\;\n",
    "&= \\frac{1}{m} X^T (X \\theta - \\vec{y})\n",
    "\\end{align*}\n",
    "$\n",
    "\n",
    "Finally the matrix notation (vectorized) of the Gradient Descent rule is:\n",
    "\n",
    "$\n",
    "\\large\n",
    "\\theta := \\theta - \\frac{\\alpha}{m} X^T (X \\theta - \\vec{y})\n",
    "$"
   ]
  },
  {
   "cell_type": "markdown",
   "metadata": {},
   "source": [
    "With Octave, you can iterate the process above many times until it changes little enough."
   ]
  },
  {
   "cell_type": "code",
   "execution_count": 4,
   "metadata": {
    "collapsed": false
   },
   "outputs": [
    {
     "data": {
      "image/svg+xml": [
       "<svg viewBox=\"0 0 268 201\" xmlns=\"http://www.w3.org/2000/svg\" xmlns:xlink=\"http://www.w3.org/1999/xlink\">\n",
       "\n",
       "<title>Gnuplot</title>\n",
       "<desc>Produced by GNUPLOT 5.0 patchlevel 1 </desc>\n",
       "\n",
       "<g id=\"gnuplot_canvas\">\n",
       "\n",
       "<rect fill=\"none\" height=\"201\" width=\"268\" x=\"0\" y=\"0\"/>\n",
       "<defs>\n",
       "\n",
       "\t<circle id=\"gpDot\" r=\"0.5\" stroke-width=\"0.5\"/>\n",
       "\t<path d=\"M-1,0 h2 M0,-1 v2\" id=\"gpPt0\" stroke=\"currentColor\" stroke-width=\"0.333\"/>\n",
       "\t<path d=\"M-1,-1 L1,1 M1,-1 L-1,1\" id=\"gpPt1\" stroke=\"currentColor\" stroke-width=\"0.333\"/>\n",
       "\t<path d=\"M-1,0 L1,0 M0,-1 L0,1 M-1,-1 L1,1 M-1,1 L1,-1\" id=\"gpPt2\" stroke=\"currentColor\" stroke-width=\"0.333\"/>\n",
       "\t<rect height=\"2\" id=\"gpPt3\" stroke=\"currentColor\" stroke-width=\"0.333\" width=\"2\" x=\"-1\" y=\"-1\"/>\n",
       "\t<rect fill=\"currentColor\" height=\"2\" id=\"gpPt4\" stroke=\"currentColor\" stroke-width=\"0.333\" width=\"2\" x=\"-1\" y=\"-1\"/>\n",
       "\t<circle cx=\"0\" cy=\"0\" id=\"gpPt5\" r=\"1\" stroke=\"currentColor\" stroke-width=\"0.333\"/>\n",
       "\t<use fill=\"currentColor\" id=\"gpPt6\" stroke=\"none\" xlink:href=\"#gpPt5\"/>\n",
       "\t<path d=\"M0,-1.33 L-1.33,0.67 L1.33,0.67 z\" id=\"gpPt7\" stroke=\"currentColor\" stroke-width=\"0.333\"/>\n",
       "\t<use fill=\"currentColor\" id=\"gpPt8\" stroke=\"none\" xlink:href=\"#gpPt7\"/>\n",
       "\t<use id=\"gpPt9\" stroke=\"currentColor\" transform=\"rotate(180)\" xlink:href=\"#gpPt7\"/>\n",
       "\t<use fill=\"currentColor\" id=\"gpPt10\" stroke=\"none\" xlink:href=\"#gpPt9\"/>\n",
       "\t<use id=\"gpPt11\" stroke=\"currentColor\" transform=\"rotate(45)\" xlink:href=\"#gpPt3\"/>\n",
       "\t<use fill=\"currentColor\" id=\"gpPt12\" stroke=\"none\" xlink:href=\"#gpPt11\"/>\n",
       "\t<path d=\"M0,1.330 L1.265,0.411 L0.782,-1.067 L-0.782,-1.076 L-1.265,0.411 z\" id=\"gpPt13\" stroke=\"currentColor\" stroke-width=\"0.333\"/>\n",
       "\t<use fill=\"currentColor\" id=\"gpPt14\" stroke=\"none\" xlink:href=\"#gpPt13\"/>\n",
       "\t<filter filterUnits=\"objectBoundingBox\" height=\"1\" id=\"textbox\" width=\"1\" x=\"0\" y=\"0\">\n",
       "\t  <feFlood flood-color=\"white\" flood-opacity=\"1\" result=\"bgnd\"/>\n",
       "\t  <feComposite in=\"SourceGraphic\" in2=\"bgnd\" operator=\"atop\"/>\n",
       "\t</filter>\n",
       "\t<filter filterUnits=\"objectBoundingBox\" height=\"1\" id=\"greybox\" width=\"1\" x=\"0\" y=\"0\">\n",
       "\t  <feFlood flood-color=\"lightgrey\" flood-opacity=\"1\" result=\"grey\"/>\n",
       "\t  <feComposite in=\"SourceGraphic\" in2=\"grey\" operator=\"atop\"/>\n",
       "\t</filter>\n",
       "</defs>\n",
       "<g color=\"white\" fill=\"none\" stroke=\"currentColor\" stroke-linecap=\"butt\" stroke-linejoin=\"miter\" stroke-width=\"1.00\">\n",
       "</g>\n",
       "<g color=\"black\" fill=\"none\" stroke=\"currentColor\" stroke-linecap=\"butt\" stroke-linejoin=\"miter\" stroke-width=\"1.00\">\n",
       "\t<g shape-rendering=\"crispEdges\" stroke=\"none\">\n",
       "\t\t<polygon fill=\"rgb(255, 255, 255)\" points=\"42.0,177.6 251.8,177.6 251.8,11.4 42.0,11.4 \"/>\n",
       "\t</g>\n",
       "</g>\n",
       "<g color=\"black\" fill=\"none\" stroke=\"rgb(255, 255, 255)\" stroke-linecap=\"butt\" stroke-linejoin=\"miter\" stroke-width=\"0.50\">\n",
       "</g>\n",
       "<g color=\"black\" fill=\"none\" stroke=\"currentColor\" stroke-linecap=\"butt\" stroke-linejoin=\"miter\" stroke-width=\"0.50\">\n",
       "\t<path d=\"M42.0,177.6 L50.4,177.6 M251.9,177.6 L243.5,177.6  \" stroke=\"black\"/>\t<g fill=\"rgb(0,0,0)\" font-family=\"{}\" font-size=\"10.00\" stroke=\"none\" text-anchor=\"end\" transform=\"translate(36.4,181.3)\">\n",
       "\t\t<text><tspan font-family=\"{}\">0</tspan></text>\n",
       "\t</g>\n",
       "</g>\n",
       "<g color=\"black\" fill=\"none\" stroke=\"currentColor\" stroke-linecap=\"butt\" stroke-linejoin=\"miter\" stroke-width=\"0.50\">\n",
       "\t<path d=\"M42.0,156.8 L50.4,156.8 M251.9,156.8 L243.5,156.8  \" stroke=\"black\"/>\t<g fill=\"rgb(0,0,0)\" font-family=\"{}\" font-size=\"10.00\" stroke=\"none\" text-anchor=\"end\" transform=\"translate(36.4,160.5)\">\n",
       "\t\t<text><tspan font-family=\"{}\">5000</tspan></text>\n",
       "\t</g>\n",
       "</g>\n",
       "<g color=\"black\" fill=\"none\" stroke=\"currentColor\" stroke-linecap=\"butt\" stroke-linejoin=\"miter\" stroke-width=\"0.50\">\n",
       "\t<path d=\"M42.0,136.0 L50.4,136.0 M251.9,136.0 L243.5,136.0  \" stroke=\"black\"/>\t<g fill=\"rgb(0,0,0)\" font-family=\"{}\" font-size=\"10.00\" stroke=\"none\" text-anchor=\"end\" transform=\"translate(36.4,139.7)\">\n",
       "\t\t<text><tspan font-family=\"{}\">10000</tspan></text>\n",
       "\t</g>\n",
       "</g>\n",
       "<g color=\"black\" fill=\"none\" stroke=\"currentColor\" stroke-linecap=\"butt\" stroke-linejoin=\"miter\" stroke-width=\"0.50\">\n",
       "\t<path d=\"M42.0,115.2 L50.4,115.2 M251.9,115.2 L243.5,115.2  \" stroke=\"black\"/>\t<g fill=\"rgb(0,0,0)\" font-family=\"{}\" font-size=\"10.00\" stroke=\"none\" text-anchor=\"end\" transform=\"translate(36.4,118.9)\">\n",
       "\t\t<text><tspan font-family=\"{}\">15000</tspan></text>\n",
       "\t</g>\n",
       "</g>\n",
       "<g color=\"black\" fill=\"none\" stroke=\"currentColor\" stroke-linecap=\"butt\" stroke-linejoin=\"miter\" stroke-width=\"0.50\">\n",
       "\t<path d=\"M42.0,94.4 L50.4,94.4 M251.9,94.4 L243.5,94.4  \" stroke=\"black\"/>\t<g fill=\"rgb(0,0,0)\" font-family=\"{}\" font-size=\"10.00\" stroke=\"none\" text-anchor=\"end\" transform=\"translate(36.4,98.1)\">\n",
       "\t\t<text><tspan font-family=\"{}\">20000</tspan></text>\n",
       "\t</g>\n",
       "</g>\n",
       "<g color=\"black\" fill=\"none\" stroke=\"currentColor\" stroke-linecap=\"butt\" stroke-linejoin=\"miter\" stroke-width=\"0.50\">\n",
       "\t<path d=\"M42.0,73.7 L50.4,73.7 M251.9,73.7 L243.5,73.7  \" stroke=\"black\"/>\t<g fill=\"rgb(0,0,0)\" font-family=\"{}\" font-size=\"10.00\" stroke=\"none\" text-anchor=\"end\" transform=\"translate(36.4,77.4)\">\n",
       "\t\t<text><tspan font-family=\"{}\">25000</tspan></text>\n",
       "\t</g>\n",
       "</g>\n",
       "<g color=\"black\" fill=\"none\" stroke=\"currentColor\" stroke-linecap=\"butt\" stroke-linejoin=\"miter\" stroke-width=\"0.50\">\n",
       "\t<path d=\"M42.0,52.9 L50.4,52.9 M251.9,52.9 L243.5,52.9  \" stroke=\"black\"/>\t<g fill=\"rgb(0,0,0)\" font-family=\"{}\" font-size=\"10.00\" stroke=\"none\" text-anchor=\"end\" transform=\"translate(36.4,56.6)\">\n",
       "\t\t<text><tspan font-family=\"{}\">30000</tspan></text>\n",
       "\t</g>\n",
       "</g>\n",
       "<g color=\"black\" fill=\"none\" stroke=\"currentColor\" stroke-linecap=\"butt\" stroke-linejoin=\"miter\" stroke-width=\"0.50\">\n",
       "\t<path d=\"M42.0,32.1 L50.4,32.1 M251.9,32.1 L243.5,32.1  \" stroke=\"black\"/>\t<g fill=\"rgb(0,0,0)\" font-family=\"{}\" font-size=\"10.00\" stroke=\"none\" text-anchor=\"end\" transform=\"translate(36.4,35.8)\">\n",
       "\t\t<text><tspan font-family=\"{}\">35000</tspan></text>\n",
       "\t</g>\n",
       "</g>\n",
       "<g color=\"black\" fill=\"none\" stroke=\"currentColor\" stroke-linecap=\"butt\" stroke-linejoin=\"miter\" stroke-width=\"0.50\">\n",
       "\t<path d=\"M42.0,11.3 L50.4,11.3 M251.9,11.3 L243.5,11.3  \" stroke=\"black\"/>\t<g fill=\"rgb(0,0,0)\" font-family=\"{}\" font-size=\"10.00\" stroke=\"none\" text-anchor=\"end\" transform=\"translate(36.4,15.0)\">\n",
       "\t\t<text><tspan font-family=\"{}\">40000</tspan></text>\n",
       "\t</g>\n",
       "</g>\n",
       "<g color=\"black\" fill=\"none\" stroke=\"currentColor\" stroke-linecap=\"butt\" stroke-linejoin=\"miter\" stroke-width=\"0.50\">\n",
       "\t<path d=\"M42.0,177.6 L42.0,169.2 M42.0,11.3 L42.0,19.7  \" stroke=\"black\"/>\t<g fill=\"rgb(0,0,0)\" font-family=\"{}\" font-size=\"10.00\" stroke=\"none\" text-anchor=\"middle\" transform=\"translate(42.0,193.3)\">\n",
       "\t\t<text><tspan font-family=\"{}\">0</tspan></text>\n",
       "\t</g>\n",
       "</g>\n",
       "<g color=\"black\" fill=\"none\" stroke=\"currentColor\" stroke-linecap=\"butt\" stroke-linejoin=\"miter\" stroke-width=\"0.50\">\n",
       "\t<path d=\"M84.0,177.6 L84.0,169.2 M84.0,11.3 L84.0,19.7  \" stroke=\"black\"/>\t<g fill=\"rgb(0,0,0)\" font-family=\"{}\" font-size=\"10.00\" stroke=\"none\" text-anchor=\"middle\" transform=\"translate(84.0,193.3)\">\n",
       "\t\t<text><tspan font-family=\"{}\">200</tspan></text>\n",
       "\t</g>\n",
       "</g>\n",
       "<g color=\"black\" fill=\"none\" stroke=\"currentColor\" stroke-linecap=\"butt\" stroke-linejoin=\"miter\" stroke-width=\"0.50\">\n",
       "\t<path d=\"M126.0,177.6 L126.0,169.2 M126.0,11.3 L126.0,19.7  \" stroke=\"black\"/>\t<g fill=\"rgb(0,0,0)\" font-family=\"{}\" font-size=\"10.00\" stroke=\"none\" text-anchor=\"middle\" transform=\"translate(126.0,193.3)\">\n",
       "\t\t<text><tspan font-family=\"{}\">400</tspan></text>\n",
       "\t</g>\n",
       "</g>\n",
       "<g color=\"black\" fill=\"none\" stroke=\"currentColor\" stroke-linecap=\"butt\" stroke-linejoin=\"miter\" stroke-width=\"0.50\">\n",
       "\t<path d=\"M167.9,177.6 L167.9,169.2 M167.9,11.3 L167.9,19.7  \" stroke=\"black\"/>\t<g fill=\"rgb(0,0,0)\" font-family=\"{}\" font-size=\"10.00\" stroke=\"none\" text-anchor=\"middle\" transform=\"translate(167.9,193.3)\">\n",
       "\t\t<text><tspan font-family=\"{}\">600</tspan></text>\n",
       "\t</g>\n",
       "</g>\n",
       "<g color=\"black\" fill=\"none\" stroke=\"currentColor\" stroke-linecap=\"butt\" stroke-linejoin=\"miter\" stroke-width=\"0.50\">\n",
       "\t<path d=\"M209.9,177.6 L209.9,169.2 M209.9,11.3 L209.9,19.7  \" stroke=\"black\"/>\t<g fill=\"rgb(0,0,0)\" font-family=\"{}\" font-size=\"10.00\" stroke=\"none\" text-anchor=\"middle\" transform=\"translate(209.9,193.3)\">\n",
       "\t\t<text><tspan font-family=\"{}\">800</tspan></text>\n",
       "\t</g>\n",
       "</g>\n",
       "<g color=\"black\" fill=\"none\" stroke=\"currentColor\" stroke-linecap=\"butt\" stroke-linejoin=\"miter\" stroke-width=\"0.50\">\n",
       "\t<path d=\"M251.9,177.6 L251.9,169.2 M251.9,11.3 L251.9,19.7  \" stroke=\"black\"/>\t<g fill=\"rgb(0,0,0)\" font-family=\"{}\" font-size=\"10.00\" stroke=\"none\" text-anchor=\"middle\" transform=\"translate(251.9,193.3)\">\n",
       "\t\t<text><tspan font-family=\"{}\">1000</tspan></text>\n",
       "\t</g>\n",
       "</g>\n",
       "<g color=\"black\" fill=\"none\" stroke=\"currentColor\" stroke-linecap=\"butt\" stroke-linejoin=\"miter\" stroke-width=\"0.50\">\n",
       "</g>\n",
       "<g color=\"black\" fill=\"none\" stroke=\"currentColor\" stroke-linecap=\"butt\" stroke-linejoin=\"miter\" stroke-width=\"0.50\">\n",
       "\t<path d=\"M42.0,11.3 L42.0,177.6 L251.9,177.6 L251.9,11.3 L42.0,11.3 Z  \" stroke=\"black\"/></g>\n",
       "<g color=\"black\" fill=\"none\" stroke=\"currentColor\" stroke-linecap=\"butt\" stroke-linejoin=\"miter\" stroke-width=\"0.50\">\n",
       "</g>\n",
       "\t<g id=\"gnuplot_plot_1a\"><title>gnuplot_plot_1a</title>\n",
       "<g color=\"black\" fill=\"none\" stroke=\"currentColor\" stroke-linecap=\"butt\" stroke-linejoin=\"miter\" stroke-width=\"0.50\">\n",
       "\t<path d=\"M42.2,13.1 L42.4,45.7 L42.6,71.5 L42.8,92.0 L43.0,108.3 L43.3,121.4 L43.5,131.9 L43.7,140.3   L43.9,147.2 L44.1,152.7 L44.3,157.1 L44.5,160.7 L44.7,163.7 L44.9,166.1 L45.1,168.0 L45.4,169.6   L45.6,170.9 L45.8,171.9 L46.0,172.8 L46.2,173.5 L46.4,174.1 L46.6,174.6 L46.8,175.0 L47.0,175.3   L47.2,175.6 L47.5,175.8 L47.7,176.0 L47.9,176.2 L48.1,176.3 L48.3,176.4 L48.5,176.5 L48.7,176.6   L48.9,176.7 L49.1,176.8 L49.3,176.8 L49.6,176.9 L49.8,176.9 L50.0,177.0 L50.2,177.0 L50.4,177.0   L50.6,177.1 L50.8,177.1 L51.0,177.1 L51.2,177.1 L51.4,177.2 L51.7,177.2 L51.9,177.2 L52.1,177.2   L52.3,177.3 L52.5,177.3 L52.7,177.3 L52.9,177.3 L53.1,177.3 L53.3,177.3 L53.5,177.3 L53.8,177.4   L54.0,177.4 L54.2,177.4 L54.4,177.4 L54.6,177.4 L54.8,177.4 L55.0,177.4 L55.2,177.4 L55.4,177.4   L55.6,177.4 L55.9,177.4 L56.1,177.5 L56.3,177.5 L56.5,177.5 L56.7,177.5 L56.9,177.5 L57.1,177.5   L57.3,177.5 L57.5,177.5 L57.7,177.5 L58.0,177.5 L58.2,177.5 L58.4,177.5 L58.6,177.5 L58.8,177.5   L59.0,177.5 L59.2,177.5 L59.4,177.5 L59.6,177.5 L59.8,177.5 L60.1,177.5 L60.3,177.5 L60.5,177.5   L60.7,177.5 L60.9,177.6 L61.1,177.6 L61.3,177.6 L61.5,177.6 L61.7,177.6 L61.9,177.6 L62.2,177.6   L62.4,177.6 L62.6,177.6 L62.8,177.6 L63.0,177.6 L63.2,177.6 L63.4,177.6 L63.6,177.6 L63.8,177.6   L64.0,177.6 L64.2,177.6 L64.5,177.6 L64.7,177.6 L64.9,177.6 L65.1,177.6 L65.3,177.6 L65.5,177.6   L65.7,177.6 L65.9,177.6 L66.1,177.6 L66.3,177.6 L66.6,177.6 L66.8,177.6 L67.0,177.6 L67.2,177.6   L67.4,177.6 L67.6,177.6 L67.8,177.6 L68.0,177.6 L68.2,177.6 L68.4,177.6 L68.7,177.6 L68.9,177.6   L69.1,177.6 L69.3,177.6 L69.5,177.6 L69.7,177.6 L69.9,177.6 L70.1,177.6 L70.3,177.6 L70.5,177.6   L70.8,177.6 L71.0,177.6 L71.2,177.6 L71.4,177.6 L71.6,177.6 L71.8,177.6 L72.0,177.6 L72.2,177.6   L72.4,177.6 L72.6,177.6 L72.9,177.6 L73.1,177.6 L73.3,177.6 L73.5,177.6 L73.7,177.6 L73.9,177.6   L74.1,177.6 L74.3,177.6 L74.5,177.6 L74.7,177.6 L75.0,177.6 L75.2,177.6 L75.4,177.6 L75.6,177.6   L75.8,177.6 L76.0,177.6 L76.2,177.6 L76.4,177.6 L76.6,177.6 L76.8,177.6 L77.1,177.6 L77.3,177.6   L77.5,177.6 L77.7,177.6 L77.9,177.6 L78.1,177.6 L78.3,177.6 L78.5,177.6 L78.7,177.6 L78.9,177.6   L79.2,177.6 L79.4,177.6 L79.6,177.6 L79.8,177.6 L80.0,177.6 L80.2,177.6 L80.4,177.6 L80.6,177.6   L80.8,177.6 L81.0,177.6 L81.3,177.6 L81.5,177.6 L81.7,177.6 L81.9,177.6 L82.1,177.6 L82.3,177.6   L82.5,177.6 L82.7,177.6 L82.9,177.6 L83.1,177.6 L83.4,177.6 L83.6,177.6 L83.8,177.6 L84.0,177.6   L84.2,177.6 L84.4,177.6 L84.6,177.6 L84.8,177.6 L85.0,177.6 L85.2,177.6 L85.4,177.6 L85.7,177.6   L85.9,177.6 L86.1,177.6 L86.3,177.6 L86.5,177.6 L86.7,177.6 L86.9,177.6 L87.1,177.6 L87.3,177.6   L87.5,177.6 L87.8,177.6 L88.0,177.6 L88.2,177.6 L88.4,177.6 L88.6,177.6 L88.8,177.6 L89.0,177.6   L89.2,177.6 L89.4,177.6 L89.6,177.6 L89.9,177.6 L90.1,177.6 L90.3,177.6 L90.5,177.6 L90.7,177.6   L90.9,177.6 L91.1,177.6 L91.3,177.6 L91.5,177.6 L91.7,177.6 L92.0,177.6 L92.2,177.6 L92.4,177.6   L92.6,177.6 L92.8,177.6 L93.0,177.6 L93.2,177.6 L93.4,177.6 L93.6,177.6 L93.8,177.6 L94.1,177.6   L94.3,177.6 L94.5,177.6 L94.7,177.6 L94.9,177.6 L95.1,177.6 L95.3,177.6 L95.5,177.6 L95.7,177.6   L95.9,177.6 L96.2,177.6 L96.4,177.6 L96.6,177.6 L96.8,177.6 L97.0,177.6 L97.2,177.6 L97.4,177.6   L97.6,177.6 L97.8,177.6 L98.0,177.6 L98.3,177.6 L98.5,177.6 L98.7,177.6 L98.9,177.6 L99.1,177.6   L99.3,177.6 L99.5,177.6 L99.7,177.6 L99.9,177.6 L100.1,177.6 L100.4,177.6 L100.6,177.6 L100.8,177.6   L101.0,177.6 L101.2,177.6 L101.4,177.6 L101.6,177.6 L101.8,177.6 L102.0,177.6 L102.2,177.6 L102.5,177.6   L102.7,177.6 L102.9,177.6 L103.1,177.6 L103.3,177.6 L103.5,177.6 L103.7,177.6 L103.9,177.6 L104.1,177.6   L104.3,177.6 L104.6,177.6 L104.8,177.6 L105.0,177.6 L105.2,177.6 L105.4,177.6 L105.6,177.6 L105.8,177.6   L106.0,177.6 L106.2,177.6 L106.4,177.6 L106.6,177.6 L106.9,177.6 L107.1,177.6 L107.3,177.6 L107.5,177.6   L107.7,177.6 L107.9,177.6 L108.1,177.6 L108.3,177.6 L108.5,177.6 L108.7,177.6 L109.0,177.6 L109.2,177.6   L109.4,177.6 L109.6,177.6 L109.8,177.6 L110.0,177.6 L110.2,177.6 L110.4,177.6 L110.6,177.6 L110.8,177.6   L111.1,177.6 L111.3,177.6 L111.5,177.6 L111.7,177.6 L111.9,177.6 L112.1,177.6 L112.3,177.6 L112.5,177.6   L112.7,177.6 L112.9,177.6 L113.2,177.6 L113.4,177.6 L113.6,177.6 L113.8,177.6 L114.0,177.6 L114.2,177.6   L114.4,177.6 L114.6,177.6 L114.8,177.6 L115.0,177.6 L115.3,177.6 L115.5,177.6 L115.7,177.6 L115.9,177.6   L116.1,177.6 L116.3,177.6 L116.5,177.6 L116.7,177.6 L116.9,177.6 L117.1,177.6 L117.4,177.6 L117.6,177.6   L117.8,177.6 L118.0,177.6 L118.2,177.6 L118.4,177.6 L118.6,177.6 L118.8,177.6 L119.0,177.6 L119.2,177.6   L119.5,177.6 L119.7,177.6 L119.9,177.6 L120.1,177.6 L120.3,177.6 L120.5,177.6 L120.7,177.6 L120.9,177.6   L121.1,177.6 L121.3,177.6 L121.6,177.6 L121.8,177.6 L122.0,177.6 L122.2,177.6 L122.4,177.6 L122.6,177.6   L122.8,177.6 L123.0,177.6 L123.2,177.6 L123.4,177.6 L123.7,177.6 L123.9,177.6 L124.1,177.6 L124.3,177.6   L124.5,177.6 L124.7,177.6 L124.9,177.6 L125.1,177.6 L125.3,177.6 L125.5,177.6 L125.8,177.6 L126.0,177.6   L126.2,177.6 L126.4,177.6 L126.6,177.6 L126.8,177.6 L127.0,177.6 L127.2,177.6 L127.4,177.6 L127.6,177.6   L127.8,177.6 L128.1,177.6 L128.3,177.6 L128.5,177.6 L128.7,177.6 L128.9,177.6 L129.1,177.6 L129.3,177.6   L129.5,177.6 L129.7,177.6 L129.9,177.6 L130.2,177.6 L130.4,177.6 L130.6,177.6 L130.8,177.6 L131.0,177.6   L131.2,177.6 L131.4,177.6 L131.6,177.6 L131.8,177.6 L132.0,177.6 L132.3,177.6 L132.5,177.6 L132.7,177.6   L132.9,177.6 L133.1,177.6 L133.3,177.6 L133.5,177.6 L133.7,177.6 L133.9,177.6 L134.1,177.6 L134.4,177.6   L134.6,177.6 L134.8,177.6 L135.0,177.6 L135.2,177.6 L135.4,177.6 L135.6,177.6 L135.8,177.6 L136.0,177.6   L136.2,177.6 L136.5,177.6 L136.7,177.6 L136.9,177.6 L137.1,177.6 L137.3,177.6 L137.5,177.6 L137.7,177.6   L137.9,177.6 L138.1,177.6 L138.3,177.6 L138.6,177.6 L138.8,177.6 L139.0,177.6 L139.2,177.6 L139.4,177.6   L139.6,177.6 L139.8,177.6 L140.0,177.6 L140.2,177.6 L140.4,177.6 L140.7,177.6 L140.9,177.6 L141.1,177.6   L141.3,177.6 L141.5,177.6 L141.7,177.6 L141.9,177.6 L142.1,177.6 L142.3,177.6 L142.5,177.6 L142.8,177.6   L143.0,177.6 L143.2,177.6 L143.4,177.6 L143.6,177.6 L143.8,177.6 L144.0,177.6 L144.2,177.6 L144.4,177.6   L144.6,177.6 L144.9,177.6 L145.1,177.6 L145.3,177.6 L145.5,177.6 L145.7,177.6 L145.9,177.6 L146.1,177.6   L146.3,177.6 L146.5,177.6 L146.7,177.6 L147.0,177.6 L147.2,177.6 L147.4,177.6 L147.6,177.6 L147.8,177.6   L148.0,177.6 L148.2,177.6 L148.4,177.6 L148.6,177.6 L148.8,177.6 L149.0,177.6 L149.3,177.6 L149.5,177.6   L149.7,177.6 L149.9,177.6 L150.1,177.6 L150.3,177.6 L150.5,177.6 L150.7,177.6 L150.9,177.6 L151.1,177.6   L151.4,177.6 L151.6,177.6 L151.8,177.6 L152.0,177.6 L152.2,177.6 L152.4,177.6 L152.6,177.6 L152.8,177.6   L153.0,177.6 L153.2,177.6 L153.5,177.6 L153.7,177.6 L153.9,177.6 L154.1,177.6 L154.3,177.6 L154.5,177.6   L154.7,177.6 L154.9,177.6 L155.1,177.6 L155.3,177.6 L155.6,177.6 L155.8,177.6 L156.0,177.6 L156.2,177.6   L156.4,177.6 L156.6,177.6 L156.8,177.6 L157.0,177.6 L157.2,177.6 L157.4,177.6 L157.7,177.6 L157.9,177.6   L158.1,177.6 L158.3,177.6 L158.5,177.6 L158.7,177.6 L158.9,177.6 L159.1,177.6 L159.3,177.6 L159.5,177.6   L159.8,177.6 L160.0,177.6 L160.2,177.6 L160.4,177.6 L160.6,177.6 L160.8,177.6 L161.0,177.6 L161.2,177.6   L161.4,177.6 L161.6,177.6 L161.9,177.6 L162.1,177.6 L162.3,177.6 L162.5,177.6 L162.7,177.6 L162.9,177.6   L163.1,177.6 L163.3,177.6 L163.5,177.6 L163.7,177.6 L164.0,177.6 L164.2,177.6 L164.4,177.6 L164.6,177.6   L164.8,177.6 L165.0,177.6 L165.2,177.6 L165.4,177.6 L165.6,177.6 L165.8,177.6 L166.1,177.6 L166.3,177.6   L166.5,177.6 L166.7,177.6 L166.9,177.6 L167.1,177.6 L167.3,177.6 L167.5,177.6 L167.7,177.6 L167.9,177.6   L168.1,177.6 L168.4,177.6 L168.6,177.6 L168.8,177.6 L169.0,177.6 L169.2,177.6 L169.4,177.6 L169.6,177.6   L169.8,177.6 L170.0,177.6 L170.2,177.6 L170.5,177.6 L170.7,177.6 L170.9,177.6 L171.1,177.6 L171.3,177.6   L171.5,177.6 L171.7,177.6 L171.9,177.6 L172.1,177.6 L172.3,177.6 L172.6,177.6 L172.8,177.6 L173.0,177.6   L173.2,177.6 L173.4,177.6 L173.6,177.6 L173.8,177.6 L174.0,177.6 L174.2,177.6 L174.4,177.6 L174.7,177.6   L174.9,177.6 L175.1,177.6 L175.3,177.6 L175.5,177.6 L175.7,177.6 L175.9,177.6 L176.1,177.6 L176.3,177.6   L176.5,177.6 L176.8,177.6 L177.0,177.6 L177.2,177.6 L177.4,177.6 L177.6,177.6 L177.8,177.6 L178.0,177.6   L178.2,177.6 L178.4,177.6 L178.6,177.6 L178.9,177.6 L179.1,177.6 L179.3,177.6 L179.5,177.6 L179.7,177.6   L179.9,177.6 L180.1,177.6 L180.3,177.6 L180.5,177.6 L180.7,177.6 L181.0,177.6 L181.2,177.6 L181.4,177.6   L181.6,177.6 L181.8,177.6 L182.0,177.6 L182.2,177.6 L182.4,177.6 L182.6,177.6 L182.8,177.6 L183.1,177.6   L183.3,177.6 L183.5,177.6 L183.7,177.6 L183.9,177.6 L184.1,177.6 L184.3,177.6 L184.5,177.6 L184.7,177.6   L184.9,177.6 L185.2,177.6 L185.4,177.6 L185.6,177.6 L185.8,177.6 L186.0,177.6 L186.2,177.6 L186.4,177.6   L186.6,177.6 L186.8,177.6 L187.0,177.6 L187.3,177.6 L187.5,177.6 L187.7,177.6 L187.9,177.6 L188.1,177.6   L188.3,177.6 L188.5,177.6 L188.7,177.6 L188.9,177.6 L189.1,177.6 L189.3,177.6 L189.6,177.6 L189.8,177.6   L190.0,177.6 L190.2,177.6 L190.4,177.6 L190.6,177.6 L190.8,177.6 L191.0,177.6 L191.2,177.6 L191.4,177.6   L191.7,177.6 L191.9,177.6 L192.1,177.6 L192.3,177.6 L192.5,177.6 L192.7,177.6 L192.9,177.6 L193.1,177.6   L193.3,177.6 L193.5,177.6 L193.8,177.6 L194.0,177.6 L194.2,177.6 L194.4,177.6 L194.6,177.6 L194.8,177.6   L195.0,177.6 L195.2,177.6 L195.4,177.6 L195.6,177.6 L195.9,177.6 L196.1,177.6 L196.3,177.6 L196.5,177.6   L196.7,177.6 L196.9,177.6 L197.1,177.6 L197.3,177.6 L197.5,177.6 L197.7,177.6 L198.0,177.6 L198.2,177.6   L198.4,177.6 L198.6,177.6 L198.8,177.6 L199.0,177.6 L199.2,177.6 L199.4,177.6 L199.6,177.6 L199.8,177.6   L200.1,177.6 L200.3,177.6 L200.5,177.6 L200.7,177.6 L200.9,177.6 L201.1,177.6 L201.3,177.6 L201.5,177.6   L201.7,177.6 L201.9,177.6 L202.2,177.6 L202.4,177.6 L202.6,177.6 L202.8,177.6 L203.0,177.6 L203.2,177.6   L203.4,177.6 L203.6,177.6 L203.8,177.6 L204.0,177.6 L204.3,177.6 L204.5,177.6 L204.7,177.6 L204.9,177.6   L205.1,177.6 L205.3,177.6 L205.5,177.6 L205.7,177.6 L205.9,177.6 L206.1,177.6 L206.4,177.6 L206.6,177.6   L206.8,177.6 L207.0,177.6 L207.2,177.6 L207.4,177.6 L207.6,177.6 L207.8,177.6 L208.0,177.6 L208.2,177.6   L208.5,177.6 L208.7,177.6 L208.9,177.6 L209.1,177.6 L209.3,177.6 L209.5,177.6 L209.7,177.6 L209.9,177.6   L210.1,177.6 L210.3,177.6 L210.5,177.6 L210.8,177.6 L211.0,177.6 L211.2,177.6 L211.4,177.6 L211.6,177.6   L211.8,177.6 L212.0,177.6 L212.2,177.6 L212.4,177.6 L212.6,177.6 L212.9,177.6 L213.1,177.6 L213.3,177.6   L213.5,177.6 L213.7,177.6 L213.9,177.6 L214.1,177.6 L214.3,177.6 L214.5,177.6 L214.7,177.6 L215.0,177.6   L215.2,177.6 L215.4,177.6 L215.6,177.6 L215.8,177.6 L216.0,177.6 L216.2,177.6 L216.4,177.6 L216.6,177.6   L216.8,177.6 L217.1,177.6 L217.3,177.6 L217.5,177.6 L217.7,177.6 L217.9,177.6 L218.1,177.6 L218.3,177.6   L218.5,177.6 L218.7,177.6 L218.9,177.6 L219.2,177.6 L219.4,177.6 L219.6,177.6 L219.8,177.6 L220.0,177.6   L220.2,177.6 L220.4,177.6 L220.6,177.6 L220.8,177.6 L221.0,177.6 L221.3,177.6 L221.5,177.6 L221.7,177.6   L221.9,177.6 L222.1,177.6 L222.3,177.6 L222.5,177.6 L222.7,177.6 L222.9,177.6 L223.1,177.6 L223.4,177.6   L223.6,177.6 L223.8,177.6 L224.0,177.6 L224.2,177.6 L224.4,177.6 L224.6,177.6 L224.8,177.6 L225.0,177.6   L225.2,177.6 L225.5,177.6 L225.7,177.6 L225.9,177.6 L226.1,177.6 L226.3,177.6 L226.5,177.6 L226.7,177.6   L226.9,177.6 L227.1,177.6 L227.3,177.6 L227.6,177.6 L227.8,177.6 L228.0,177.6 L228.2,177.6 L228.4,177.6   L228.6,177.6 L228.8,177.6 L229.0,177.6 L229.2,177.6 L229.4,177.6 L229.7,177.6 L229.9,177.6 L230.1,177.6   L230.3,177.6 L230.5,177.6 L230.7,177.6 L230.9,177.6 L231.1,177.6 L231.3,177.6 L231.5,177.6 L231.7,177.6   L232.0,177.6 L232.2,177.6 L232.4,177.6 L232.6,177.6 L232.8,177.6 L233.0,177.6 L233.2,177.6 L233.4,177.6   L233.6,177.6 L233.8,177.6 L234.1,177.6 L234.3,177.6 L234.5,177.6 L234.7,177.6 L234.9,177.6 L235.1,177.6   L235.3,177.6 L235.5,177.6 L235.7,177.6 L235.9,177.6 L236.2,177.6 L236.4,177.6 L236.6,177.6 L236.8,177.6   L237.0,177.6 L237.2,177.6 L237.4,177.6 L237.6,177.6 L237.8,177.6 L238.0,177.6 L238.3,177.6 L238.5,177.6   L238.7,177.6 L238.9,177.6 L239.1,177.6 L239.3,177.6 L239.5,177.6 L239.7,177.6 L239.9,177.6 L240.1,177.6   L240.4,177.6 L240.6,177.6 L240.8,177.6 L241.0,177.6 L241.2,177.6 L241.4,177.6 L241.6,177.6 L241.8,177.6   L242.0,177.6 L242.2,177.6 L242.5,177.6 L242.7,177.6 L242.9,177.6 L243.1,177.6 L243.3,177.6 L243.5,177.6   L243.7,177.6 L243.9,177.6 L244.1,177.6 L244.3,177.6 L244.6,177.6 L244.8,177.6 L245.0,177.6 L245.2,177.6   L245.4,177.6 L245.6,177.6 L245.8,177.6 L246.0,177.6 L246.2,177.6 L246.4,177.6 L246.7,177.6 L246.9,177.6   L247.1,177.6 L247.3,177.6 L247.5,177.6 L247.7,177.6 L247.9,177.6 L248.1,177.6 L248.3,177.6 L248.5,177.6   L248.8,177.6 L249.0,177.6 L249.2,177.6 L249.4,177.6 L249.6,177.6 L249.8,177.6 L250.0,177.6 L250.2,177.6   L250.4,177.6 L250.6,177.6 L250.9,177.6 L251.1,177.6 L251.3,177.6 L251.5,177.6 L251.7,177.6 L251.9,177.6    \" stroke=\"rgb(  0,   0, 255)\"/></g>\n",
       "\t</g>\n",
       "<g color=\"white\" fill=\"none\" stroke=\"rgb(  0,   0, 255)\" stroke-linecap=\"butt\" stroke-linejoin=\"miter\" stroke-width=\"2.00\">\n",
       "</g>\n",
       "<g color=\"black\" fill=\"none\" stroke=\"currentColor\" stroke-linecap=\"butt\" stroke-linejoin=\"miter\" stroke-width=\"2.00\">\n",
       "</g>\n",
       "<g color=\"black\" fill=\"none\" stroke=\"black\" stroke-linecap=\"butt\" stroke-linejoin=\"miter\" stroke-width=\"0.50\">\n",
       "</g>\n",
       "<g color=\"black\" fill=\"none\" stroke=\"currentColor\" stroke-linecap=\"butt\" stroke-linejoin=\"miter\" stroke-width=\"0.50\">\n",
       "</g>\n",
       "</g>\n",
       "</svg>"
      ],
      "text/plain": [
       "<IPython.core.display.SVG object>"
      ]
     },
     "metadata": {},
     "output_type": "display_data"
    },
    {
     "data": {
      "text/plain": [
       "X =\r\n",
       "\r\n",
       "   1.00000   1.22226   1.39076  -0.86603   1.14276\r\n",
       "   1.00000  -0.11784  -0.19868   0.86603   0.35465\r\n",
       "   1.00000   0.11200  -0.19868   0.86603  -1.22157\r\n",
       "   1.00000  -1.21641  -0.99340  -0.86603  -0.27584\r\n",
       "\r\n",
       "y =\r\n",
       "\r\n",
       "   460\r\n",
       "   232\r\n",
       "   315\r\n",
       "   178\r\n",
       "\r\n",
       "theta =\r\n",
       "\r\n",
       "   296.250\r\n",
       "    74.610\r\n",
       "    66.823\r\n",
       "   -31.598\r\n",
       "   -41.778\r\n",
       "\r\n"
      ]
     },
     "execution_count": 4,
     "metadata": {},
     "output_type": "execute_result"
    }
   ],
   "source": [
    "X = [2104 5 1 45;\n",
    "     1416 3 2 40;\n",
    "     1534 3 2 30\n",
    "     852 2 1 36];\n",
    "y = [460;\n",
    "     232;\n",
    "     315;\n",
    "     178];\n",
    "X = (X - mean(X)) ./ std(X);  # Feature scaling\n",
    "X = [ones(4, 1) X];\n",
    "\n",
    "theta = zeros(size(X, 2),1);\n",
    "m = length(y);\n",
    "\n",
    "alpha = 0.1;\n",
    "num_iters = 1000;\n",
    "J_h = zeros(num_iters, 1);\n",
    "for iter=1:num_iters\n",
    "    theta = theta - alpha / m * X' * (X * theta - y);\n",
    "    J_h(iter) = sumsq(X * theta - y) / (2 * m);\n",
    "end\n",
    "\n",
    "plot(1:numel(J_h), J_h);\n",
    "X, y, theta"
   ]
  },
  {
   "cell_type": "markdown",
   "metadata": {},
   "source": [
    "## Gradient Descent in Practice"
   ]
  },
  {
   "cell_type": "markdown",
   "metadata": {},
   "source": [
    "### Feature Scaling\n",
    "\n",
    "We can speed up gradient descent by having each of our input values in roughly the same range. This is becouse $\\theta$ will descend quickly on small ranges and slowly on lare ranges, and so will oscillate inefficiently down to the optimum when the variables are very uneven.\n",
    "\n",
    "The way to prevent this is to modify the ranges of our input variables so that they are all roughly the same. Ideally:\n",
    "\n",
    "$\n",
    "-1 \\leq x_i \\leq 1\n",
    "$\n",
    "\n",
    "or\n",
    "\n",
    "$\n",
    "-0.5 \\leq x_i \\leq 0.5\n",
    "$\n",
    "\n",
    "There aren't exact requirement; we are only trying to speed things up. The goal is to get all input variables into roughly one of these ranges, give or take a few.\n",
    "\n",
    "Two techniques to help with this are **feature scaling** and **mean normalization**. \n",
    "\n",
    "Feaure scaling involves dividing the input values by the range (i.e. the maximum value minus the minimum value) of the input variable, resulting in a new range of just 1.\n",
    "\n",
    "Mean normalization involves subtracting the average value for the input variable, resulting in a new average value for the input variable of just zero. To implement both of these techniques, adjust you input values as shown in this formula:\n",
    "\n",
    "$\n",
    "x_i := \\dfrac{x_i - \\mu_i}{s_i}\n",
    "$\n",
    "\n",
    "Where $\\mu_i$ is the **average** of all the values and $s_i$ is the maximum of the range of values *minus* the minimum or $s_i$ is the standard deviation.\n",
    "\n",
    "**Example:**\n",
    "\n",
    "<img src=\"./images/2/Feature_scaling.png\" align=\"left\" width=49% />\n",
    "<img src=\"./images/2/Mean_normalization.png\" align=\"right\" width=49% />"
   ]
  },
  {
   "cell_type": "markdown",
   "metadata": {},
   "source": [
    "### Learning Rate\n",
    "\n",
    "It has been proven that if learning rate $\\alpha$ is sufficiently small, then $J(\\theta)$ will decrease on evey iteration.\n",
    "\n",
    "We can declare convergence if $J(\\theta)$ dereases by less than $E$ in one iteration, where $E$ is some small value such as $10^{-3}$.\n",
    "\n",
    "Andrew Ng recommends decreasing $\\alpha$ by multiples of 3.\n",
    "\n",
    "$\n",
    "\\cdots, \\; 1, \\; 0.3, \\; 0.1, \\; 0.03, \\; 0.01, \\; \\cdots\n",
    "$\n",
    "\n",
    "**Example:**\n",
    "\n",
    "<img src=\"./images/2/Debugging.png\" align=left width=49% />\n",
    "<img src=\"./images/2/Not_working.png\" align=right width=49% />\n",
    "<br />\n",
    "<img src=\"./images/2/Learning_rate.png\" width=70% />"
   ]
  },
  {
   "cell_type": "markdown",
   "metadata": {},
   "source": [
    "## Features and Polynomial Regression"
   ]
  },
  {
   "cell_type": "markdown",
   "metadata": {},
   "source": [
    "We can improve our features and the form of our hypothesis function in a couple different ways.\n",
    "\n",
    "We can **combine** mulitple eatures into one. For example, we can combine $x_1$ and $x_2$ into a new feature $x_3$ by taking $x_1 \\cdot x_2$."
   ]
  },
  {
   "cell_type": "markdown",
   "metadata": {},
   "source": [
    "### Polynomial Regression\n",
    "\n",
    "Our hypothesiss function need not be linear (a straight line) if that does not fit the data well.\n",
    "\n",
    "We can **change the behavior or curve** of our hypothesis function by making it a quadtatic, cubic or square root function (or any other form).\n",
    "\n",
    "For example, if our hypothesis function is $h_\\theta(x) = \\theta_0 + \\theta_1 x_1$ then we can simply **duplicate** the instances of $x_1$ to get the quadratic function $h_\\theta(x) = \\theta_0 + \\theta_1 x_1 + \\theta_2 x_1^2$ or the cubic function $h_\\theta(x) = \\theta_0 + \\theta_1 x_1 + \\theta_2 x_1^2 + \\theta_3 x_1^3$.\n",
    "\n",
    "In cubic version, we have created new features $x_2$ and $x_3$ where $x_2 = x_1^2$ and $x_3 = x_1^3$.\n",
    "\n",
    "TO make it a square root function, we could do: $h_\\theta(x) =\\theta_0 + \\theta_1 x_1 + \\theta_2 \\sqrt{x_1}$\n",
    "\n",
    "Note that feature scaling is important here, as shown below:\n",
    "\n",
    "**Example:**\n",
    "\n",
    "<img src=\"./images/2/Polynomial_regression.png\" width=70% />"
   ]
  },
  {
   "cell_type": "markdown",
   "metadata": {},
   "source": [
    "## Normal Equation"
   ]
  },
  {
   "cell_type": "markdown",
   "metadata": {},
   "source": [
    "The \"normal equation\" is a version of finding the optimum **without iteration**.\n",
    "\n",
    "The proof for this equation can be found [here](https://en.wikipedia.org/wiki/Linear_least_squares_%28mathematics%29).\n",
    "\n",
    "$\n",
    "\\theta = (X^T X)^{-1} X^T y\n",
    "$\n",
    "\n",
    "There is **no need** to do feature scaling with the normal equation.\n",
    "\n",
    "**Example:** Normal equation, Pros and cons\n",
    "\n",
    "<img src=\"./images/2/Normal_equation.png\" align=left width=49% />\n",
    "<img src = \"./images/2/Pros_and_cons.png\" align=right width=49% />"
   ]
  },
  {
   "cell_type": "markdown",
   "metadata": {},
   "source": [
    "With Octave, you can use `pinv` to compute the inverse of the matrix.\n",
    "\n",
    "However the `pinv` actually compute the [Moore-Penrose pseudoinverse](https://en.wikipedia.org/wiki/Moore%E2%80%93Penrose_pseudoinverse) of the matrix. So we can just use `pinv(X) * y` instead of `pinv(X'*X) * X' * y)`.\n",
    "These two are exactly the same thing when $X$ has full column rank.\n",
    "\n",
    "Another way is just to use `X \\ y` (mldivide, i.e. matrix left devide) which roughtly does the same thing with `pinv(X) * y`, but in a different way.\n",
    "\n",
    "Note that the theta we get here is different from the above, for we didn't use feature scaling here. But we should make roughly the same prediction using these two methods."
   ]
  },
  {
   "cell_type": "code",
   "execution_count": 6,
   "metadata": {
    "collapsed": false
   },
   "outputs": [
    {
     "data": {
      "text/plain": [
       "theta =\r\n",
       "\r\n",
       "   188.40032\r\n",
       "     0.38663\r\n",
       "   -56.13825\r\n",
       "   -92.96725\r\n",
       "    -3.73782\r\n",
       "\r\n"
      ]
     },
     "execution_count": 6,
     "metadata": {},
     "output_type": "execute_result"
    }
   ],
   "source": [
    "X = [2104 5 1 45;\n",
    "     1416 3 2 40;\n",
    "     1534 3 2 30\n",
    "     852 2 1 36];\n",
    "y = [460;\n",
    "     232;\n",
    "     315;\n",
    "     178];\n",
    "X = [ones(4, 1) X];\n",
    "theta = pinv(X) * y"
   ]
  },
  {
   "cell_type": "code",
   "execution_count": 8,
   "metadata": {
    "collapsed": false
   },
   "outputs": [
    {
     "data": {
      "text/plain": [
       "theta =\r\n",
       "\r\n",
       "   188.40032\r\n",
       "     0.38663\r\n",
       "   -56.13825\r\n",
       "   -92.96725\r\n",
       "    -3.73782\r\n",
       "\r\n"
      ]
     },
     "execution_count": 8,
     "metadata": {},
     "output_type": "execute_result"
    }
   ],
   "source": [
    "theta = pinv(X'*X) * X' * y"
   ]
  },
  {
   "cell_type": "code",
   "execution_count": 10,
   "metadata": {
    "collapsed": false
   },
   "outputs": [
    {
     "data": {
      "text/plain": [
       "theta =\r\n",
       "\r\n",
       "   188.40032\r\n",
       "     0.38663\r\n",
       "   -56.13825\r\n",
       "   -92.96725\r\n",
       "    -3.73782\r\n",
       "\r\n"
      ]
     },
     "execution_count": 10,
     "metadata": {},
     "output_type": "execute_result"
    }
   ],
   "source": [
    "theta = X \\ y"
   ]
  }
 ],
 "metadata": {
  "kernelspec": {
   "display_name": "Octave",
   "language": "octave",
   "name": "octave_kernel"
  },
  "language_info": {
   "file_extension": ".m",
   "help_links": [
    {
     "text": "MetaKernel Magics",
     "url": "https://github.com/calysto/metakernel/blob/master/metakernel/magics/README.md"
    }
   ],
   "mimetype": "text/x-octave",
   "name": "octave_kernel"
  }
 },
 "nbformat": 4,
 "nbformat_minor": 0
}
