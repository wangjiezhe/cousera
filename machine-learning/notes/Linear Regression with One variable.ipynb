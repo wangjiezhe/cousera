{
 "cells": [
  {
   "cell_type": "markdown",
   "metadata": {},
   "source": [
    "# Linear Regression with One variable (单变量线性回归)"
   ]
  },
  {
   "cell_type": "markdown",
   "metadata": {},
   "source": [
    "## Model Representation"
   ]
  },
  {
   "cell_type": "markdown",
   "metadata": {},
   "source": [
    "Recall that in *regression problems*, we are taking input variables and trying to map the output onto a *continous* expected result function.\n",
    "\n",
    "Linear regression with one variable is also known as *\"univariate linear regression.\"*\n",
    "\n",
    "Univariate linear regression is used when you want to predict a **single output** value from a **single input** value. We're doing **supervised learning** here, so that means we already have an idea what the input/output cause and effect shoud be.\n",
    "\n",
    "**Example:** Training set, input and output\n",
    "\n",
    "<img src=\"./images/1/Training_set.png\" width=70% />"
   ]
  },
  {
   "cell_type": "markdown",
   "metadata": {},
   "source": [
    "## The Hypothesis Function"
   ]
  },
  {
   "cell_type": "markdown",
   "metadata": {},
   "source": [
    "Our hypothesis function has the general form:\n",
    "\n",
    "$\n",
    "h_\\theta(x) = \\theta_0 + \\theta_1 x\n",
    "$\n",
    "\n",
    "We give to $h_{\\theta}$ values for $\\theta_{0}$ and $\\theta_{1}$ to get our output '$y$'. In other words, we are trying to create a function called $h_{\\theta}$ that is able to reliably map out input data (the $x$'s) to our output data (the $y$'s).\n",
    "\n",
    "**Example:**\n",
    "\n",
    "<img src=\"./images/1/Hypothesis.png\" width=70% />"
   ]
  },
  {
   "cell_type": "markdown",
   "metadata": {},
   "source": [
    "## Cost Function"
   ]
  },
  {
   "cell_type": "markdown",
   "metadata": {},
   "source": [
    "We can measure the accuracy of our hypothesis function by using a **cost function**. This takes an average (actually a fancier version of an average) of all the results of the hypothesis with inputs from $x$'s compared to the actual output $y$'s.\n",
    "\n",
    "$\n",
    "J(\\theta_0, \\theta_1) = \\dfrac{1}{2m} \\displaystyle \\sum_{i=1}^m \\left (h_\\theta(x^{(i)}) - y^{(i)} \\right )^2\n",
    "$\n",
    "\n",
    "To break it apart, it is $\\frac{1}{2} \\bar{x}$ where $\\bar{x}$ is the mean of the squares of $h_{\\theta}(x^{(i)}) - y^{(i)}$, or the difference between the predicted value and the actual value.\n",
    "\n",
    "This function is otherwise called the *\"Squared error function\"*, or *[Mean squared error (MSE)](https://en.wikipedia.org/wiki/Mean_squared_error).* The mean is halved ($\\frac{1}{2m}$) as a convenience for the computation of the gradient descent, as the derivative term of the square function will cancel out the $\\frac{1}{2}$ term.\n",
    "\n",
    "**Example:** Cost function and its goal, 3d-bowl-shaped and contour pixmaps\n",
    "\n",
    "<img src=\"./images/1/Cost_function.png\" align=\"left\" width=49% />\n",
    "<img src=\"./images/1/Cost_function_goal.png\" align=\"right\" width=49% />\n",
    "<br />\n",
    "<img src=\"./images/1/Cost_function_3d.png\" align=\"left\" width=49% />\n",
    "<img src=\"./images/1/Cost_function_contour.png\" align=\"right\" width=49% />"
   ]
  },
  {
   "cell_type": "markdown",
   "metadata": {},
   "source": [
    "## Gradient Descent (梯度下降法)"
   ]
  },
  {
   "cell_type": "markdown",
   "metadata": {},
   "source": [
    "So we have our hypothesis function and we have a way of measuring how accurate it is. Now what we need is a way to automatically improve our hypothesis function. That't where gradient descent comes in.\n",
    "\n",
    "Imagine that we graph our hypothesis function based one its fields $\\theta_0$ and $\\theta_1$ (actually we are graphing the cost function for the combinations of parameters). This can be kind of confusing; we are moving up to a higher level of abstraction. We are not graphing $x$ and $y$ itself, but the guesses of our hypothesis function.\n",
    "\n",
    "We put $\\theta_0$ on the $x$ axis and $\\theta_1$ on the $z$ axis, with the cost function on the vertical $y$ axis. The points on our graph will be the result of the **cost function** using our hypothesis with those specific $\\theta$ parameters.\n",
    "\n",
    "We will know that we have succedded when our cost function is at the very bottom  of the pits in our graph, i.e. when its value is the minimum.\n",
    "\n",
    "The way we do this is by taking the **derivative** (the line tangent to a function) of our cost function. The slope of the tangent is the derivative at that point and it will give us a direction to move towards. We make stops down that derivative by the parameter $\\alpha$, called the *learning rate*.\n",
    "\n",
    "The gradient descent equation is:\n",
    "\n",
    "$\n",
    "\\text{repeat until convergence:} \\\\\n",
    "\\theta_j := \\theta_j - \\alpha  \\frac{\\partial}{\\partial \\theta_j} J(\\theta_0, \\theta_1) \\qquad \\text{for $j=0$ and $j=1$}\n",
    "$\n",
    "\n",
    "intuitively, this could be thought of as:\n",
    "\n",
    "$\n",
    "\\text{repeat until convergence:} \\\\\n",
    "\\theta_j := \\theta_j - \\alpha [\\text{Slope of tangent aka derivative}]\n",
    "$\n",
    "\n",
    "**Example:**\n",
    "\n",
    "<img src=\"./images/1/Gradient_descent.png\" width=70% />\n",
    "\n",
    "#### **\"Batch\" Gradient Desecent** (批量梯度下降法)\n",
    "\n",
    "* *\"Batch\":* Each step of gradient descent uses all the traing examples."
   ]
  },
  {
   "cell_type": "markdown",
   "metadata": {},
   "source": [
    "## Gradient Descent for Linear Regression"
   ]
  },
  {
   "cell_type": "markdown",
   "metadata": {},
   "source": [
    "When specifically applied to the case of linear regression, a new form of the gradient descent equation can be derived. We can substitute our actual cost function and our actual hypothesis function and modify the equation to\n",
    "\n",
    "$\n",
    "\\begin{align*}\n",
    "\\text{repeat until convergence: }\n",
    "\\lbrace & \\\\\n",
    "\\theta_0 := & \\theta_0 - \\alpha \\frac{1}{m} \\sum\\limits_{i=1}^{m} (h_\\theta(x^{(i)}) - y^{(i)}) \\\\\n",
    "\\theta_1 := & \\theta_1 - \\alpha \\frac{1}{m} \\sum\\limits_{i=1}^{m}\n",
    "\\left((h_\\theta(x^{(i)}) - y^{(i)}) x^{(i)}\\right) \\\\\n",
    "\\rbrace &\n",
    "\\end{align*}\n",
    "$\n",
    "\n",
    "where $m$ is the size of the training set, $\\theta_0$ a constant that will be changing simultaneously with $\\theta_1$ and $x^{(i)}$, $y^{(i)}$ are values of the given training set (data).\n",
    "\n",
    "Note that we have separated out the two cases for $\\theta_j$ and that for $\\theta_1$ we are multiplying $x^{(i)}$ at the end due to the derivative.\n",
    "\n",
    "The poing of all this is that we start with a guess for our hypothesis and then repeatedly apply these gradient descent equations, our hypothesis will become more and more accurate."
   ]
  }
 ],
 "metadata": {
  "kernelspec": {
   "display_name": "Octave",
   "language": "octave",
   "name": "octave_kernel"
  },
  "language_info": {
   "file_extension": ".m",
   "help_links": [
    {
     "text": "MetaKernel Magics",
     "url": "https://github.com/calysto/metakernel/blob/master/metakernel/magics/README.md"
    }
   ],
   "mimetype": "text/x-octave",
   "name": "octave_kernel"
  }
 },
 "nbformat": 4,
 "nbformat_minor": 0
}
